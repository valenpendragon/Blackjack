{
 "cells": [
  {
   "cell_type": "code",
   "execution_count": 95,
   "metadata": {
    "collapsed": false
   },
   "outputs": [],
   "source": [
    "import random\n",
    "# from abc import ABCMeta, abstractmethod\n",
    "\n",
    "class CardShoe(object):\n",
    "    '''\n",
    "    This abstract base class is used to simulate a six deck shoe.\n",
    "        \n",
    "    Class Order Attributes:\n",
    "        suits: a list of the suits used in normal playing card decks\n",
    "            S (spades), D (diamonds), H (hearts), and C (clubs). ['S', 'D',\n",
    "            'H', 'C']\n",
    "        ranks: a list of the ranks of playing cards in ascending order Ace \n",
    "            through King, represented by A, 1, 2, 3,...., 9, 10, J, Q, K.\n",
    "            ['A', '2', '3', '4', '5', '6', '7', '8', '9', '10', 'J', \n",
    "            'Q', 'K']\n",
    "        values: dictionary of the scoring for each rank of blackjack card\n",
    "    \n",
    "    Attributes\n",
    "        shuffled_deck : a randomly shuffled shoe created from decks.\n",
    "        length: the number of cards in the shoe after initialization\n",
    "    \n",
    "    Methods:\n",
    "        __init__ : Initializes shuffled_deck to create a card shoe.\n",
    "        __str__: prints out the number of cards remaining in the shoe.\n",
    "        Note: A special delete method is not needed.\n",
    "        remove_top: removes the top card (index 0) from the shuffled deck\n",
    "            and returns the tuple of the card (rank, suit)\n",
    "        \n",
    "    '''\n",
    "    suits = ['S', 'D', 'H', 'C']\n",
    "    ranks = ['A', '2', '3', '4', '5', '6', '7', '8', '9', '10', 'J', 'Q', 'K']\n",
    "    values = {'A': 1, '2' : 2, '3' : 3, '4' : 4, '5' : 5, '6' : 6, \\\n",
    "              '7' : 7, '8' : 8, '9' : 9, '10' : 10, 'J' : 10, 'Q' : 10,\\\n",
    "              'K' : 10 }\n",
    "    \n",
    "    def __init__(self):\n",
    "        # decks is created as a set of indexes used to create a shuffled\n",
    "        # six deck shoe. It is a local variable, not an attribute. It is\n",
    "        # an ordered list of tuples of the form (rank, suit), where rank\n",
    "        # is taken from the list CardShoe.rank and suit from list \n",
    "        # CardShoe.suits.\n",
    "        # To prevent cheating, __init__ takes no arguments. Instead,\n",
    "        # it creates an empty shuffled_deck itself.\n",
    "        decks = []\n",
    "        for i in xrange(0, 6):\n",
    "            for s in CardShoe.suits:\n",
    "                for r in CardShoe.ranks:\n",
    "                    decks.append((r,s))\n",
    "        \n",
    "        # To create a shuffled card shoe, we need to take a random card from\n",
    "        # decks and move it into the shoe. We keep doing that until the deck\n",
    "        # is fully randomized.\n",
    "        self.shuffled_deck = []\n",
    "        while len(decks) > 0:\n",
    "            # card is another local variable. It is a tuple pulled using a\n",
    "            # random index of the remaining elements in decks.\n",
    "            # card_index is that random index created using random.randint().\n",
    "            card_index = random.randint(0,len(decks) - 1)\n",
    "            self.shuffled_deck.append(decks[card_index])\n",
    "            del decks[card_index]\n",
    "        # Now, CardShoe.shuffled_deck contains a shuffled six deck shoe.\n",
    "        # This length is the number of cards in the initialized deck.\n",
    "        self.length = len(self.shuffled_deck)\n",
    "    \n",
    "    def __len__(self):\n",
    "        # This len method will print out the number of cards left in the shoe.\n",
    "        return len(self.shuffled_deck)\n",
    "    \n",
    "    def __str__(self):\n",
    "        # This prints out a statement indicating that the deck has been\n",
    "        # initialized and the current entries remaining in it.\n",
    "        return \"A shuffled shoe containing \"+ str(len(self.shuffled_deck)) + \" cards.\"\n",
    "    \n",
    "    # Delete is not needed, as removing the deck does not require any\n",
    "    # special operations.\n",
    "    \n",
    "    def remove_top(self):\n",
    "        '''\n",
    "        This method removes the top card from the deck and returns the tuple\n",
    "        (rank, suit) of the card. The top card has index 0. It does not accept\n",
    "        any arguments.\n",
    "        '''\n",
    "        top_card = self.shuffled_deck[0]\n",
    "        self.shuffled_deck.pop(0)\n",
    "        return top_card\n",
    "    \n"
   ]
  },
  {
   "cell_type": "code",
   "execution_count": 96,
   "metadata": {
    "collapsed": false
   },
   "outputs": [],
   "source": [
    "x = CardShoe()"
   ]
  },
  {
   "cell_type": "code",
   "execution_count": 100,
   "metadata": {
    "collapsed": false
   },
   "outputs": [
    {
     "name": "stdout",
     "output_type": "stream",
     "text": [
      "A shuffled shoe containing 309 cards.\n",
      "('5', 'C')\n"
     ]
    }
   ],
   "source": [
    "card = x.remove_top()\n",
    "print x\n",
    "print card"
   ]
  },
  {
   "cell_type": "code",
   "execution_count": null,
   "metadata": {
    "collapsed": false
   },
   "outputs": [],
   "source": [
    "#class CardShoe(Shoe):\n",
    "    '''\n",
    "    This class simulates the shuffling of a six deck \"shoe\" used to deal\n",
    "    cards in casinos. It uses the random.Random class to \"shuffle\" the cards\n",
    "    from a ordered list into the Card_Shoe object.\n",
    "    \n",
    "    Class Order Attributes:\n",
    "        From ABC Shoe:\n",
    "        suits: a list of the suits used in normal playing card decks\n",
    "            S (spades), D (diamonds), H (hearts), and C (clubs). ['S', 'D',\n",
    "            'H', 'C']\n",
    "        ranks: a list of the ranks of playing cards in ascending order Ace \n",
    "            through King, represented by A, 1, 2, 3,...., 9, 10, J, Q, K.\n",
    "            ['A', '2', '3', '4', '5', '6', '7', '8', '9', '10', 'J', \n",
    "            'Q', 'K']\n",
    "        values: dictionary of the scoring for each rank of blackjack card\n",
    "    \n",
    "    Attributes:\n",
    "        From ABC Shoe:\n",
    "        decks: a ordered list in order of suits (see suits above) and ranks\n",
    "            (see ranks above) of tuples (<rank>, <suit?) of six 52-card\n",
    "            decks that would be shuffled into a shoe.\n",
    "        \n",
    "        From this class:\n",
    "        shuffled_decks : a randomly shuffled shoe created from decks.\n",
    "    \n",
    "    Methods:\n",
    "        __init__ : Initializes decks and shuffled_decks to create a card shoe.\n",
    "    '''"
   ]
  }
 ],
 "metadata": {
  "kernelspec": {
   "display_name": "Python 2",
   "language": "python",
   "name": "python2"
  },
  "language_info": {
   "codemirror_mode": {
    "name": "ipython",
    "version": 2
   },
   "file_extension": ".py",
   "mimetype": "text/x-python",
   "name": "python",
   "nbconvert_exporter": "python",
   "pygments_lexer": "ipython2",
   "version": "2.7.13"
  }
 },
 "nbformat": 4,
 "nbformat_minor": 2
}
