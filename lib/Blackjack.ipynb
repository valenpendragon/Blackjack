{
 "cells": [
  {
   "cell_type": "code",
   "execution_count": 153,
   "metadata": {
    "collapsed": false
   },
   "outputs": [],
   "source": [
    "import random\n",
    "# from abc import ABCMeta, abstractmethod\n",
    "\n",
    "class CardShoe(object):\n",
    "    '''\n",
    "    This abstract base class is used to simulate a six deck shoe.\n",
    "        \n",
    "    Class Order Attributes:\n",
    "        suits: a list of the suits used in normal playing card decks\n",
    "            S (spades), D (diamonds), H (hearts), and C (clubs). ['S', 'D',\n",
    "            'H', 'C']\n",
    "        ranks: a list of the ranks of playing cards in ascending order Ace \n",
    "            through King, represented by A, 1, 2, 3,...., 9, 10, J, Q, K.\n",
    "            ['A', '2', '3', '4', '5', '6', '7', '8', '9', '10', 'J', \n",
    "            'Q', 'K']\n",
    "        values: dictionary of the scoring for each rank of blackjack card\n",
    "    \n",
    "    Attributes\n",
    "        shuffled_deck : a randomly shuffled shoe created from decks.\n",
    "        length: the number of cards in the shoe after initialization\n",
    "    \n",
    "    Methods:\n",
    "        __init__ : Initializes shuffled_deck to create a card shoe.\n",
    "        __str__: prints out the number of cards remaining in the shoe.\n",
    "        __del__: prints a message the deck show has been removed as it \n",
    "            deletes the CardShoe object\n",
    "        remove_top: removes the top card (index 0) from the shuffled deck\n",
    "            and returns the tuple of the card (rank, suit)\n",
    "        \n",
    "    '''\n",
    "    suits = ['S', 'D', 'H', 'C']\n",
    "    ranks = ['A', '2', '3', '4', '5', '6', '7', '8', '9', '10', 'J', 'Q', 'K']\n",
    "    values = {'A': 1, '2' : 2, '3' : 3, '4' : 4, '5' : 5, '6' : 6, \\\n",
    "              '7' : 7, '8' : 8, '9' : 9, '10' : 10, 'J' : 10, 'Q' : 10,\\\n",
    "              'K' : 10 }\n",
    "    \n",
    "    def __init__(self):\n",
    "        # decks is created as a set of indexes used to create a shuffled\n",
    "        # six deck shoe. It is a local variable, not an attribute. It is\n",
    "        # an ordered list of tuples of the form (rank, suit), where rank\n",
    "        # is taken from the list CardShoe.rank and suit from list \n",
    "        # CardShoe.suits.\n",
    "        # To prevent cheating, __init__ takes no arguments. Instead,\n",
    "        # it creates an empty shuffled_deck itself.\n",
    "        decks = []\n",
    "        for i in xrange(0, 6):\n",
    "            for s in CardShoe.suits:\n",
    "                for r in CardShoe.ranks:\n",
    "                    decks.append((r,s))\n",
    "        \n",
    "        # To create a shuffled card shoe, we need to take a random card from\n",
    "        # decks and move it into the shoe. We keep doing that until the deck\n",
    "        # is fully randomized.\n",
    "        self.shuffled_deck = []\n",
    "        while len(decks) > 0:\n",
    "            # card is another local variable. It is a tuple pulled using a\n",
    "            # random index of the remaining elements in decks.\n",
    "            # card_index is that random index created using random.randint().\n",
    "            card_index = random.randint(0,len(decks) - 1)\n",
    "            self.shuffled_deck.append(decks[card_index])\n",
    "            del decks[card_index]\n",
    "        # Now, CardShoe.shuffled_deck contains a shuffled six deck shoe.\n",
    "        # This length is the number of cards in the initialized deck.\n",
    "        self.length = len(self.shuffled_deck)\n",
    "    \n",
    "    def __len__(self):\n",
    "        # This len method will print out the number of cards left in the shoe.\n",
    "        return len(self.shuffled_deck)\n",
    "    \n",
    "    def __str__(self):\n",
    "        # This prints out a statement indicating that the deck has been\n",
    "        # initialized and the current entries remaining in it.\n",
    "        return \"A shuffled shoe containing \"+ str(len(self.shuffled_deck)) + \" cards.\"\n",
    "    \n",
    "    def __del__(self):\n",
    "        print(\"The current deck shoe has been removed from the game.\")\n",
    "        return True\n",
    "    \n",
    "    def remove_top(self):\n",
    "        '''\n",
    "        This method removes the top card from the deck and returns the tuple\n",
    "        (rank, suit) of the card. The top card has index 0. It does not accept\n",
    "        any arguments.\n",
    "        '''\n",
    "        top_card = self.shuffled_deck[0]\n",
    "        self.shuffled_deck.pop(0)\n",
    "        return top_card"
   ]
  },
  {
   "cell_type": "code",
   "execution_count": 154,
   "metadata": {
    "collapsed": false
   },
   "outputs": [
    {
     "name": "stdout",
     "output_type": "stream",
     "text": [
      "The current deck shoe has been removed from the game.\n"
     ]
    }
   ],
   "source": [
    "x = CardShoe()"
   ]
  },
  {
   "cell_type": "code",
   "execution_count": 155,
   "metadata": {
    "collapsed": false
   },
   "outputs": [
    {
     "name": "stdout",
     "output_type": "stream",
     "text": [
      "A shuffled shoe containing 312 cards.\n"
     ]
    }
   ],
   "source": [
    "print(x)"
   ]
  },
  {
   "cell_type": "code",
   "execution_count": 156,
   "metadata": {
    "collapsed": false
   },
   "outputs": [],
   "source": [
    "from __future__ import print_function\n",
    "\n",
    "class Player(object):\n",
    "    \"\"\"\n",
    "    This class creates Hands for a Blackjack player.\n",
    "    \n",
    "    Terms related to game play:\n",
    "        players_turn: The part of a round of play in which players are playing their hands, in\n",
    "            rotation around the \"table\"\n",
    "        dealer_turn: The part of the round of play in which the dealer plays his/her hand\n",
    "        round: A deal, followed by players deciding bets and card draws, followed by dealer's turn,\n",
    "            and ending with settling wins and losses for the player hands\n",
    "        game: A series of rounds of play until either all players run out of money or decide to\n",
    "            stop playing and \"cash out\". After all players quit, a final tally of their money\n",
    "            determines the winner of the game.\n",
    "    \n",
    "    Class Order Attributes:\n",
    "    \n",
    "    Attributes:\n",
    "        name: stores the player's name\n",
    "        hand: tracks the card tuples (rank, suit) of the cards in the player's regular hand\n",
    "        soft_hand_score: integer value of the current \"soft\" score of the player's hand\n",
    "        hard_hand_score: integer value of the \"hard\" score of the player's hand\n",
    "        split_flag: boolean set to True if the player splits, False if not.\n",
    "        split_hand: tracks a second hand created by a split\n",
    "        soft_split_score: integer value of the current \"soft\" score of the player's split hand,\n",
    "            if it exists\n",
    "        hard_split_score: integer value of the current \"hard\" score of the player's aplit hand,\n",
    "            if it exists\n",
    "        bank: integer number of dollars the player currently has in chips\n",
    "        bet: current amount bet on the outcome of the hand vs dealer's hand\n",
    "        split_bet: tracks any bets applied to a card split hand\n",
    "        insurance: tracks the amount of any side bets taken on the dealer getting blackjack\n",
    "    \n",
    "    Methods:\n",
    "        __init__: Creates the player object, initializing all of the attributes. The bank has a\n",
    "            default value of 1000 dollars.\n",
    "        __str__: This method prints the player's name, the player's bank, bets, and primary hand.\n",
    "            If the split_flag is True, it will print that data as well.\n",
    "        __del__: prints a message while removing the player object\n",
    "        __len__: prints out the len of the player's regular hand (This is used to determine\n",
    "            player blackjack)\n",
    "        print_split: This method does the same thing as __str__ except that it prints only the data\n",
    "            for the split hand\n",
    "        start_round: This method reinitializes all attributes, except Player.name and Player.bank.\n",
    "        start_game: This method creates a new object and sets up empty attributes and an initial bank.\n",
    "        end_round:\n",
    "        add_card_to_hand: takes a card tuple as an argument and adds it to the hand and updates the\n",
    "            soft and hard scores for Player.hand\n",
    "        add_card_to_split: performs the same operation on the split hand if one exists\n",
    "        player_blackjack: takes the player's regular bet, mulitplies it by the Blackjack multiplier\n",
    "            (supplied via argument), and clears the regular hand attributes\n",
    "        player_win: adds the player's bet to the bank and clears the regular hand attributes\n",
    "        player_split_win: add the player's split bet to the bank and clears the split hand attributes\n",
    "        player_loss: subtracts the player's bet from the bank and clears the regular hand\n",
    "            attributes\n",
    "        player_split_loss: ubtracts the player's split bet from the bank and clears the split hand\n",
    "            attributes\n",
    "        player_tie: clears the player's regular hand attributes without altering the bank\n",
    "        player_split_tie: clears the player's regular hand attributes without altering the bank\n",
    "        player_split: moves one card over to the split_hand, prompts for a initial\n",
    "            split_bet, and sets the split_flag to True\n",
    "      \n",
    "    \"\"\"\n",
    "    def __init__(self, name, bank=1000):\n",
    "        '''\n",
    "        This method intializes all of the following attributes:\n",
    "            name: takes a string to initialize the player's name\n",
    "            bank: takes a non-negative integer and stores it (even for Dealer). This attribute\n",
    "                has a default of $1000 dollars if not specified\n",
    "            hand: creates an empty list\n",
    "            soft_hand_score: integer set to 0\n",
    "            hard_hand_score: integer set to 0\n",
    "            split_flag: boolean set to False\n",
    "            split_hand: creates an empty list\n",
    "            soft_split_score: integer set to 0\n",
    "            hard_split_score: integer set to 0\n",
    "            bet: integer set to 0\n",
    "            split_bet: integer set to 0\n",
    "            insurance: integer set to 0\n",
    "            \n",
    "        '''\n",
    "        self.name = name\n",
    "        self.bank = bank\n",
    "        self.hand = []\n",
    "        self.soft_hand_score = 0\n",
    "        self.hard_hand_score = 0\n",
    "        self.split_flag = False\n",
    "        self.split_hand = []\n",
    "        self.soft_split_score = 0\n",
    "        self.hard_split_score = 0\n",
    "        self.bet = 0\n",
    "        self.split_bet = 0\n",
    "        self.insurance = 0\n",
    "    \n",
    "    def __str__(self):\n",
    "        '''\n",
    "        This method prints out the full data on a Player in a readable format. If\n",
    "        the split_flag is True, it adds the data for a split hand as well.\n",
    "        '''\n",
    "        print(\"Player:\\t\", self.name)\n",
    "        print(\"Chips:\\t${0}.00\".format(self.bank))\n",
    "        print(\"\\n\\tCurrent Hand: \", end='')\n",
    "        # This suppresses the linefeed and flushes the buffer to make the ouput\n",
    "        # look like a single line of code.\n",
    "                                                      \n",
    "        for rank, suit in self.hand:\n",
    "            print(\"{0}-{1}  \".format(rank,suit), end='')\n",
    "        print(\"\\n\\tSoft score for this hand: \", self.soft_hand_score)\n",
    "        print(\"\\tHard score for this hand: \", self.hard_hand_score)\n",
    "        print(\"\\n\\tBet on this hand: $\", self.bet)\n",
    "        if self.split_flag == True:\n",
    "            print(\"\\n\\tSplit Hand: \", end='')\n",
    "            for rank, suit in self.split_hand:\n",
    "                print(\"{0}-{1}  \".format(rank,suit), end='')\n",
    "            print(\"\\n\\tSoft score for this hand: \", self.soft_split_score)\n",
    "            print(\"\\tHard score for this hand: \", self.hard_split_score)\n",
    "            print(\"\\n\\tBet on this hand: $\", self.split_bet)\n",
    "        print(\"\\nInsurance against Dealer Blackjack: $\", self.insurance)\n",
    "        return \"Data on \"+ self.name + \" is complete\"\n",
    "    \n",
    "    def __del__(self):\n",
    "        '''\n",
    "        This method removes a player from the game. After deleting it, it prints a message\n",
    "        and returns True.\n",
    "        '''\n",
    "        print(\"Player has been removed from the game.\")\n",
    "        return True\n",
    "    \n",
    "    def __len__(self):\n",
    "        '''\n",
    "        This method prints out the length of the player's regular hand. This is used to help\n",
    "        determine a possible blackjack.\n",
    "        '''\n",
    "        return len(self.hand)\n",
    "    \n",
    "    def print_split(self):\n",
    "        '''\n",
    "        This method prints the player data in a format similar to __str__, but it leaves out\n",
    "        the regular hand. It accepts no arguments.\n",
    "        '''\n",
    "        if self.split_flag == False:\n",
    "            print(\"Player {} does not have a split hand.\", self.name)\n",
    "            return False\n",
    "        print(\"Player:\\t\", self.name)\n",
    "        print(\"Chips:\\t${0}.00\".format(self.bank))\n",
    "        print(\"\\n\\tSplit Hand: \", end='')\n",
    "        for rank, suit in self.split_hand:\n",
    "            print(\"{0}-{1}  \".format(rank,suit), end='')\n",
    "        print(\"\\n\\tSoft score for this hand: \", self.soft_split_score)\n",
    "        print(\"\\tHard score for this hand: \", self.hard_split_score)\n",
    "        print(\"\\n\\tBet on this hand: $\", self.split_bet)\n",
    "        return"
   ]
  },
  {
   "cell_type": "code",
   "execution_count": 157,
   "metadata": {
    "collapsed": false
   },
   "outputs": [
    {
     "name": "stdout",
     "output_type": "stream",
     "text": [
      "Player has been removed from the game.\n"
     ]
    }
   ],
   "source": [
    "player1 = Player(\"Fred\")"
   ]
  },
  {
   "cell_type": "code",
   "execution_count": 158,
   "metadata": {
    "collapsed": false
   },
   "outputs": [],
   "source": [
    "player1.bet = 30\n",
    "player1.hand = [('4','C'),('A', 'S'),('5', 'D')]\n",
    "player1.soft_hand_score = 20\n",
    "player1.hard_hand_score = 10\n",
    "player1.split_flag = True\n",
    "player1.split_hand = [('A', 'C'), ('10', 'H')]\n",
    "player1.soft_split_score = 21\n",
    "player1.hard_split_score = 11\n",
    "player1.split_bet = 40"
   ]
  },
  {
   "cell_type": "code",
   "execution_count": 159,
   "metadata": {
    "collapsed": false
   },
   "outputs": [
    {
     "name": "stdout",
     "output_type": "stream",
     "text": [
      "Player:\t Fred\n",
      "Chips:\t$1000.00\n",
      "\n",
      "\tCurrent Hand: 4-C  A-S  5-D  \n",
      "\tSoft score for this hand:  20\n",
      "\tHard score for this hand:  10\n",
      "\n",
      "\tBet on this hand: $ 30\n",
      "\n",
      "\tSplit Hand: A-C  10-H  \n",
      "\tSoft score for this hand:  21\n",
      "\tHard score for this hand:  11\n",
      "\n",
      "\tBet on this hand: $ 40\n",
      "\n",
      "Insurance against Dealer Blackjack: $ 0\n",
      "Data on Fred is complete\n"
     ]
    }
   ],
   "source": [
    "print(player1)"
   ]
  },
  {
   "cell_type": "code",
   "execution_count": 160,
   "metadata": {
    "collapsed": false
   },
   "outputs": [
    {
     "data": {
      "text/plain": [
       "3"
      ]
     },
     "execution_count": 160,
     "metadata": {},
     "output_type": "execute_result"
    }
   ],
   "source": [
    "len(player1)"
   ]
  },
  {
   "cell_type": "code",
   "execution_count": 161,
   "metadata": {
    "collapsed": false
   },
   "outputs": [
    {
     "name": "stdout",
     "output_type": "stream",
     "text": [
      "Player:\t Fred\n",
      "Chips:\t$1000.00\n",
      "\n",
      "\tSplit Hand: A-C  10-H  \n",
      "\tSoft score for this hand:  21\n",
      "\tHard score for this hand:  11\n",
      "\n",
      "\tBet on this hand: $ 40\n"
     ]
    }
   ],
   "source": [
    "player1.print_split()"
   ]
  }
 ],
 "metadata": {
  "kernelspec": {
   "display_name": "Python 2",
   "language": "python",
   "name": "python2"
  },
  "language_info": {
   "codemirror_mode": {
    "name": "ipython",
    "version": 2
   },
   "file_extension": ".py",
   "mimetype": "text/x-python",
   "name": "python",
   "nbconvert_exporter": "python",
   "pygments_lexer": "ipython2",
   "version": "2.7.13"
  }
 },
 "nbformat": 4,
 "nbformat_minor": 2
}
